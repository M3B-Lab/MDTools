{
  "cells": [
    {
      "cell_type": "markdown",
      "metadata": {
        "id": "NI38geILO78w"
      },
      "source": [
        "# Laboratorio 4\n",
        "**Tutorial and best practices of bash scripting**\n",
        "\n",
        "\n",
        "Authors:\n",
        "    \n",
        "- Prof. Marco A. Deriu (marco.deriu@polito.it)\n",
        "- Lorenzo Pallante (lorenzo.pallante@polito.it)\n",
        "- Eric A. Zizzi (eric.zizzi@polito.it)\n",
        "- Marcello Miceli (marcello.miceli@polito.it)\n",
        "- Marco Cannariato (marco.cannariato@polito.it)\n",
        "\n",
        "Other credits:\n",
        "\n",
        "- Some information is obtained from the excellent tutorials by Ryan Chadwick (https://ryanstutorials.net/), which you should definitely check out!"
      ]
    },
    {
      "cell_type": "markdown",
      "metadata": {
        "id": "nH05X9QBO78y"
      },
      "source": [
        "# Table of Contents\n",
        "\n",
        "1. Bash recap\n",
        "2. Scripts = how to automate boring tasks\n",
        "3. Practical applications\n",
        "\n",
        "**Learning outcomes:** \n",
        "- understand the technical aspects of scripting\n",
        "- awareness of the dangers of offensive scripting\n",
        "- be able to use scripting to solve real-world problems"
      ]
    },
    {
      "cell_type": "markdown",
      "metadata": {
        "id": "gJYnZ8VKO78z"
      },
      "source": [
        "**Remember to copy all the necessary files if you're using COLAB**"
      ]
    },
    {
      "cell_type": "code",
      "execution_count": null,
      "metadata": {
        "id": "uFgmrhJ9O780"
      },
      "outputs": [],
      "source": [
        "# copy over data repository\n",
        "!if [ -n \"$COLAB_GPU\" ]; then git clone https://github.com/lorenzopallante/BiomeccanicaMultiscala.git; fi\n",
        "!if [ -n \"$COLAB_GPU\" ]; then mv BiomeccanicaMultiscala/LAB/04-BashScripting/* .; fi"
      ]
    },
    {
      "cell_type": "markdown",
      "metadata": {
        "id": "oVcz9JbJO781"
      },
      "source": [
        "# 1. Bash conditionals and cycles"
      ]
    },
    {
      "cell_type": "markdown",
      "metadata": {
        "id": "g8wGX1qFO781"
      },
      "source": [
        "## 1.1 The IF statement\n",
        "Just as in other laguages, such as Python or JavaScript, bash has many tools available, including conditionals and cycles, which you should know before starting your scripting journey. Let's briefly review them"
      ]
    },
    {
      "cell_type": "markdown",
      "metadata": {
        "id": "ciTKVoVJO782"
      },
      "source": [
        "The general syntax for an IF conditional is:\n",
        "<div class=\"alert alert-block alert-info\">\n",
        "<b>if</b> test <br>\n",
        "<b>then</b> <br>\n",
        " do stuff <br>\n",
        "<b>else</b> <br>\n",
        " do something else <br>\n",
        "<b>fi</b>\n",
        "</div>"
      ]
    },
    {
      "cell_type": "markdown",
      "metadata": {
        "id": "1vXxcYu9O783"
      },
      "source": [
        "<b>EXAMPLE</b>"
      ]
    },
    {
      "cell_type": "markdown",
      "metadata": {
        "id": "wXKwJhG2O783"
      },
      "source": [
        "```bash\n",
        "$ n=10\n",
        "$ if [$n –gt 5]\n",
        "$ then\n",
        "$ echo “your number is greater than 5”\n",
        "$ else\n",
        "$ echo “your number is lower or equal to 5”\n",
        "$ fi\n",
        "```"
      ]
    },
    {
      "cell_type": "markdown",
      "metadata": {
        "id": "Yu9J_a3EO784"
      },
      "source": [
        "## 1.2 Test operators"
      ]
    },
    {
      "cell_type": "markdown",
      "metadata": {
        "id": "aWUAM-qvO785"
      },
      "source": [
        "The test operator in bash can be in one of the following formats:\n",
        "```bash\n",
        "$ if <test>\n",
        "$ if [<test>]\n",
        "$ if [[<test>]]\n",
        "```"
      ]
    },
    {
      "cell_type": "markdown",
      "metadata": {
        "id": "XVdtTTZlO785"
      },
      "source": [
        "Some possible test include the following:\n",
        "\n",
        "| Syntax | Description |\n",
        "| --- | --- |\n",
        "| -n VAR | True if the length of VAR is greater than zero. |\n",
        "| -z VAR | True if the VAR is empty. |\n",
        "| STRING1 = STRING2 | True if STRING1 and STRING2 are equal. |\n",
        "| STRING1 != STRING2 | True if STRING1 and STRING2 are not equal. |\n",
        "| INTEGER1 -eq INTEGER2 | True if INTEGER1 is equal to INTEGER2. |\n",
        "| INTEGER1 -lt INTEGER2 | True if INTEGER1 is less than INTEGER2. |\n",
        "| INTEGER1 -ge INTEGER2 | True is equal or greater than INTEGER2. |\n",
        "| INTEGER1 -le INTEGER2 | True is equal or less than INTEGER2. |\n",
        "| -h FILE | True if the FILE exists and is a symbolic link. |\n",
        "| -d FILE | True if the FILE exists and is a directory. |\n",
        "| -f FILE | True if the FILE exists and is a regular file (e.g. not a directory). |\n",
        "| -e FILE | True if the FILE exists and is a file, regardless of type (node, directory, socket, etc.).|\n"
      ]
    },
    {
      "cell_type": "markdown",
      "metadata": {
        "id": "_y5FaRqqO786"
      },
      "source": [
        "## 1.3 The FOR statement"
      ]
    },
    {
      "cell_type": "markdown",
      "metadata": {
        "id": "g-tjrSkzO786"
      },
      "source": [
        "The general syntax for the for cycle is:\n",
        "<div class=\"alert alert-block alert-info\">\n",
        "<b>for</b> variable <b>in</b> list <br>\n",
        "<b>do</b> <br>\n",
        " do stuff <br>\n",
        "<b>done</b> <br>\n",
        "</div>"
      ]
    },
    {
      "cell_type": "markdown",
      "metadata": {
        "id": "QIXT_S4GO786"
      },
      "source": [
        "<b>EXAMPLE</b>"
      ]
    },
    {
      "cell_type": "markdown",
      "metadata": {
        "id": "_IL9nRNWO787"
      },
      "source": [
        "```bash\n",
        "$ for i in $(ls)\n",
        "$ do\n",
        "$ echo $i\n",
        "$ done\n",
        "```"
      ]
    },
    {
      "cell_type": "markdown",
      "metadata": {
        "id": "FSph0qUnO787"
      },
      "source": [
        "# 2. Scripting"
      ]
    },
    {
      "cell_type": "markdown",
      "metadata": {
        "id": "24tvD14cO787"
      },
      "source": [
        "First, the basics. What the hell is a script anyway?<br>\n",
        "We learned that bash is an interface to your computer: it is a way to interact with the operating system, just as the graphical interface, meaning you can move files, create files and folders, launch applications, etc..<br>\n",
        "So, any command you enter in the Linux terminal (so, any bash command) is an instruction for your operating system. So what about scripts?<br>\n",
        "The word \"script\" reminds of the thing actors use in a theater play, telling them what to do/say and when. You can think of bash scripts in the same way: they are documents telling your bash shell what to do, and in what order.<br>\n",
        "Any command you execute by typing it into the shell can also be put in a script, without changing anything!"
      ]
    },
    {
      "cell_type": "markdown",
      "metadata": {
        "id": "nYjJyVxDO788"
      },
      "source": [
        "**RECAP ON COMPUTER PROGRAMS AND PROCESSES**<br>\n",
        "There is one thing you should remember, which is essential especially if you start to write more and more complex scripts. Generally speaking a <b><u>computer program</b></u> is a set of instructions the CPU should execute, and is stored on the hard disk. When you launch a program, these instructions are copied into the memory (RAM), and the copied program is now called a <b><u>process</b></u>. The important point here is that you can have multiple processes of the same program (e.g. open two windows of the same program, or launch the same command in two terminal windows). When you open a terminal window, a bash **process** is started, giving you the interactive bash intepreter where you can type commands. If you then launch a script, a <u>different bash process will be started</u> just for the script, within the bash process that was started with your terminal. This is a detail, but has actual consequences on things such as sharing variables and so on."
      ]
    },
    {
      "cell_type": "markdown",
      "metadata": {
        "id": "tV7BKHqIO788"
      },
      "source": [
        "\n",
        "**IN A NUTSHELL**<br>\n",
        "In summary, scripts are text files which contain a series of commands that will be executed in sequence automatically. This is very useful in many scenarios, e.g. when a series of commands have to be executed many times in the same way, or when a data elaboration pipeline is particularly long and unpractical to execute one command at a time"
      ]
    },
    {
      "cell_type": "markdown",
      "metadata": {
        "id": "DsQEZ1lVO788"
      },
      "source": [
        "## 2.1 Syntax basics"
      ]
    },
    {
      "cell_type": "markdown",
      "metadata": {
        "id": "lU2pQLi-O789"
      },
      "source": [
        "In order to be executed as a script, a text file has to contain a specific string in the first line of the file.\n",
        "In the case of bash, this is usually\n",
        "```bash\n",
        "#!/bin/bash\n",
        "```\n",
        "While in the case of python scripts, the line is usually\n",
        "```python\n",
        "#!/usr/bin/env python3\n",
        "```\n",
        "These one-liners are called <b>shebangs</b> and tell the computer that the text file should be executed as a script using a specific interpreter.<br>\n",
        "The extension of bash scripts is <b>.sh</b><br>\n",
        "Instead, the extension of python scripts is <b>.py</b><br>\n",
        "In principle, any text file can be executed as a script if you explicitly specify the interpreter to use before the name of the file:"
      ]
    },
    {
      "cell_type": "markdown",
      "metadata": {
        "id": "9MS1NjTFO789"
      },
      "source": [
        "<b>EXAMPLE</b><br>\n",
        "```bash\n",
        "$ bash myscript.sh\n",
        "```\n",
        "or<br>\n",
        "```bash\n",
        "$ bash anotherscript.txt\n",
        "```\n",
        "\n",
        "**REMINDER: Linux is an <u>extensionless system</u>, so the .sh extension is just a convention and Linux doesn't really care how the filename ends!**"
      ]
    },
    {
      "cell_type": "markdown",
      "metadata": {
        "id": "WBQq8HToO789"
      },
      "source": [
        "However, specifying the <b>shebang</b> at the beginning of the file means that you don't need to specify the interpreter, and you can just launch the script using its filename:\n",
        "```bash\n",
        "$ ./myscript.sh\n",
        "```\n",
        "instead of:\n",
        "```bash\n",
        "$ bash myscript.sh\n",
        "```"
      ]
    },
    {
      "cell_type": "markdown",
      "metadata": {
        "id": "LanIfkZEO789"
      },
      "source": [
        "<div class=\"alert alert-block alert-warning\">\n",
        "<b>WARNING:</b> A file must be flagged as executable in Linux in order to be able to execute it without specifying the interpreter.<br>\n",
        "This might require to use the <b>chmod</b> command, for example:<br>\n",
        "$ chmod +x myscript.sh<br>\n",
        "The \"+x\" flag is telling Linux to add the \"eXecutable\" flag on the file, i.e. to treat it as something that can be executed directly, which is disabled by default for security reasons.\n",
        "\n",
        "</div>"
      ]
    },
    {
      "cell_type": "markdown",
      "metadata": {
        "id": "BU-TAfOBO789"
      },
      "source": [
        "### 2.1.1 Try to stay on the right $PATH\n",
        "Wait, why was the script executed as:\n",
        "```bash\n",
        "$ ./myscript.sh\n",
        "```\n",
        "instead of simply typing\n",
        "```bash\n",
        "$ myscript.sh\n",
        "```\n",
        "\n",
        "This is a small but important detail. The question is: when you enter any command into the command line, how does Bash know where the program you are trying to invoke actually is? Remember: any program is a bunch of instructions written somwhere on the hard disk. "
      ]
    },
    {
      "cell_type": "markdown",
      "metadata": {
        "id": "qkIXWCDpO789"
      },
      "source": [
        "So if you enter:\n",
        "```bash\n",
        "$ pwd\n",
        "```\n",
        "how does the shell know where the program \"pwd\" is on the hard disk?<br>\n",
        "It knows thanks to an <b><u>environment variable called $PATH</b></u>, which is a list of directories where useful system programs are located. Since it is just a variable, you can look at the contents of the PATH variable by issuing the command:\n",
        "```bash\n",
        "echo $PATH\n",
        "```\n",
        "As you can see, PATH contains a list of folders. If you type a command without specifying its folder, Bash will look for that program in these directories. If the command you issued does not exist in any of these folders, you will get the famous\n",
        "```bash\n",
        "$ command not found\n",
        "```\n",
        "error.<br>"
      ]
    },
    {
      "cell_type": "markdown",
      "metadata": {
        "id": "uDSNpOBIO789"
      },
      "source": [
        "Let's go back to our original question: why do I have to write\n",
        "```bash\n",
        "$ ./myscript.sh\n",
        "```\n",
        "instead of \n",
        "```bash\n",
        "$ myscript\n",
        "```\n",
        "The answer is that if you write \"./myscript.sh\", you are specifying the path of the executable (in this case, the current folder \"./\"). If you just type \"myscript\" or \"myscript.sh\", no path is specifyed and Bash will look for that executable in the $PATH, and likely fail to find it!"
      ]
    },
    {
      "cell_type": "markdown",
      "metadata": {
        "id": "jceBIBsOO78-"
      },
      "source": [
        "## 2.2 Let's get started with scripts then"
      ]
    },
    {
      "cell_type": "markdown",
      "metadata": {
        "id": "zMCxq5i4O78_"
      },
      "source": [
        "<b>EXAMPLE</b>\n",
        "Let's see the overall structure of a script that prints the name of the current folder (working directory), named currentfolder.sh:\n",
        "```bash\n",
        "#!/bin/bash\n",
        "# This is a comment and will not be executed\n",
        "# same for this line\n",
        "echo \"the current folder is $(pwd)\" # this will be executed\n",
        "# Graceful exit:\n",
        "exit 0\n",
        "```\n",
        "\n",
        "A couple of things to notice here:\n",
        "* \\# is the comment symbol, except in the shebang (1st line)\n",
        "* To execute a command and use its results, e.g. within a string, it must be placed into $(...). This is called <b><u>COMMAND SUBSTITUTION</b></u> and an important thing to remember to store e.g. the results of a command in a variable and re-use it in your script!\n",
        "* Comments can be inline with commands (e.g. in line 4 above)\n",
        "* Exit codes are useful for debugging! 0 usually means execution ok"
      ]
    },
    {
      "cell_type": "markdown",
      "metadata": {
        "id": "KJfXVwOKO78_"
      },
      "source": [
        "### 2.2.1 Recap on variables:\n",
        "\n",
        "As you might remember, variables are a useful way to temporarily store information that you might need during the execution of the script (usually <u>strings</u>). Remember that when you need to access a variable (i.e. read its content), you must use the \"\\\\$\" sign before the name of the variable. On the other hand, when you set the value of a variable (i.e., you write to it), you shouldn't use the \"\\\\$\" sign."
      ]
    },
    {
      "cell_type": "markdown",
      "metadata": {
        "id": "ikyP78SdO78_"
      },
      "source": [
        "In the context of scripting, there are a couple of <b>standard variables</b> that you should be aware of:\n",
        "* The variable <b>\\$0</b> is the name of the script being executed\n",
        "* The arguments you pass after the script name on the command line can be accessed from within the script as <b>\\$1, \\$2, \\$3, etc. </b>\n",
        "* The variable <b>\\$#</b> contains the number of arguments passed to the script\n",
        "* The variable <b>\\$@</b> is the actual list of those passed arguments\n",
        "* <b>\\$?</b> is a variable that stores the exit code of the last executed process. Remember: 0 means execution without errors, anything else is an error code.\n",
        "* <b>$!!</b> contains the last command that was issued on the command line"
      ]
    },
    {
      "cell_type": "markdown",
      "metadata": {
        "id": "M-Fh6hk2O79A"
      },
      "source": [
        "**EXAMPLE**<br>\n",
        "Such variables can be very useful. For example, if you want to follow two different branches within a script based on the successful/unsuccessful execution of a given command, you can use something like:\n",
        "```bash \n",
        "$ ...\n",
        "$ command_which_might_fail <argument1> <argument2>\n",
        "$ if [ $? -eq 0 ]; then\n",
        "$   echo \"Last command was succesful! Grab a beer 🍺\"\n",
        "$ else\n",
        "$   echo \"The command above failed. You will never graduate 😈\"\n",
        "$ fi\n",
        "$ ...\n",
        "```"
      ]
    },
    {
      "cell_type": "markdown",
      "metadata": {
        "id": "24itcWpwO79A"
      },
      "source": [
        "**CAUTION**<br>\n",
        "Remember that while you can set a variable as:\n",
        "```bash\n",
        "$ var1=Ciao\n",
        "```\n",
        "this becomes problematic if you have e.g. spaces:\n",
        "```bash\n",
        "$ var1=Ciao Ciao\n",
        "```\n",
        "which will result in:\n",
        "```bash\n",
        "$ -bash: Ciao: command not found\n",
        "```\n",
        "You must use quotation marks to set variables containing spaces:\n",
        "```bash\n",
        "$ var1=\"Ciao Ciao\"\n",
        "```\n"
      ]
    },
    {
      "cell_type": "markdown",
      "metadata": {
        "id": "Ozj04vIhO79A"
      },
      "source": [
        "### 2.2.2 Exercise\n",
        "Use all your current and past knowledge to do the following exercise:<br>\n",
        "Create a script named \"proteinstats.sh\" which does the following:<br>\n",
        "* Reads all the files in a folder having a \".pdb\" extension\n",
        "* Creates a file named \"stat.csv\" containing a row for each read pdb file, formatted as: \"\\<filename\\>,\\<no. of residues\\>\"\n",
        "* Creates and updates a single file called \"maxres.stat\" which contains a single row formatted as: \"\\<filename> has the highest number of residues (\\<number\\>).\" with the name of the pdb file containing most residues and the corresponding number.\n",
        "\n",
        "<div class=\"alert alert-block alert-warning\">\n",
        "<b>HINTS</b><br>\n",
        "for, if, >, >>, if [[ \\$file = *.ext ]], if [ \"\\$var\" -gt \"\\$other_var\" ]\n",
        "</div>\n"
      ]
    },
    {
      "cell_type": "markdown",
      "metadata": {
        "id": "qMXcR2pxO79B"
      },
      "source": [
        "**Example of expected result**<br>\n",
        "```bash\n",
        "$ bash proteinstast.sh\n",
        "$ cat stat.csv\n",
        "tsr1.pdb,305\n",
        "tsr2.pdb,398\n",
        "...\n",
        "tsr60.pdb,320\n",
        "$ cat maxrest.stat\n",
        "tsr34.pbd has the highest number of residues (398)\n",
        "```"
      ]
    },
    {
      "cell_type": "markdown",
      "metadata": {
        "heading_collapsed": true,
        "id": "vXIKU0vLO79B"
      },
      "source": [
        "### Solution 2.2.2"
      ]
    },
    {
      "cell_type": "code",
      "execution_count": null,
      "metadata": {
        "code_folding": [
          0
        ],
        "hidden": true,
        "scrolled": true,
        "tags": [],
        "id": "UCu7ZvjyO79B",
        "outputId": "8bb08a80-361c-4803-d347-c97e2645865a"
      },
      "outputs": [
        {
          "name": "stdout",
          "output_type": "stream",
          "text": [
            "Working...\n",
            "All done!\n"
          ]
        }
      ],
      "source": [
        "%%bash\n",
        "cd data/TAS2R\n",
        "filelist=$(ls)\n",
        "rm -f stat.csv && touch stat.csv # Useful for repeated runs since we're appending\n",
        "# Initialize variables for the highest number of residues:\n",
        "highest_res=0\n",
        "highest_file=\"None\"\n",
        "echo \"Working...\"\n",
        "for file in $filelist\n",
        "do\n",
        "    if [[ $file == *.pdb ]]; then\n",
        "        # It's a pdb file! Let's get the number of residues by grepping on C alpha carbons\n",
        "        numres_curr=$(grep CA $file | wc -l | xargs)\n",
        "        # If it's higher than highest_res, overwrite highest_res:\n",
        "        if [ \"$numres_curr\" -gt \"$highest_res\" ]; then\n",
        "            highest_res=$numres_curr\n",
        "            highest_file=$file\n",
        "        fi\n",
        "        # Finally, let's append the information to our file:\n",
        "        echo \"${file},${numres_curr}\" >>stat.csv\n",
        "    fi\n",
        "done\n",
        "# Let's write the final file:\n",
        "echo \"${highest_file} has the highest number of residues (${highest_res})\" >maxres.stat\n",
        "cd ../.. # Oh, let's go back to the start...\n",
        "echo \"All done!\""
      ]
    },
    {
      "cell_type": "markdown",
      "metadata": {
        "id": "6T0nh4xnO79B"
      },
      "source": [
        "### 2.2.3 Exporting variables\n",
        "Remember what we said before regarding scripts using their own Bash process, which is independent from the shell calling the script?\n",
        "This becomes relevant when you e.g. execute a script within a script. Let's say you wrote a script called \"mother.sh\" which at some point calls a second script:\n",
        "```bash\n",
        "$ ...\n",
        "$ var1=\"value\"\n",
        "$ # do stuff\n",
        "$ bash child.sh\n",
        "$ # do stuff\n",
        "$ ...\n",
        "```"
      ]
    },
    {
      "cell_type": "markdown",
      "metadata": {
        "id": "opIoxYFuO79B"
      },
      "source": [
        "Written as it is now, the contents of $var1 are not accessible to the script \"child.sh\", because variables are usually only accessible to the process defining them. This is called the <b><u>scope</b></u>.<br>\n",
        "Sometimes however, it is useful to share the variables of the calling script with the called script. Do do this, you need to <b><u>export</b></u> the variable, as follows:\n",
        "```bash\n",
        "$ ...\n",
        "$ export var1=\"value\"\n",
        "$ # do stuff\n",
        "$ bash child.sh\n",
        "$ # do stuff\n",
        "$ ...\n",
        "```\n",
        "\n",
        "<div class=\"alert alert-block alert-info\"><b>Careful:</b> When you export variables, Bash will create a <u>copy</u> of those variables for all child processes. This means that if the second script, child.sh, changes the value of the $var1 variable, this change will <b><u>not</b></u> be propagated back to the calling script, mother.sh.</div>"
      ]
    },
    {
      "cell_type": "markdown",
      "metadata": {
        "id": "jWlaD0c3O79C"
      },
      "source": [
        "### 2.2.4 Exercise\n",
        "Create a script, named \"HowWillICallMyChild.sh\" that downloads a list of first names from this link:<br>\n",
        "https://github.com/dominictarr/random-name/blob/master/first-names.txt<br>\n",
        "and extracts two random names from it, returning them as STDOUT and <u>also</u> saving them in a file called mybaby.txt<br>\n",
        "Also, to cleanup after yourself, the script should remove the downloaded file after finishing!\n",
        "\n",
        "<div class=\"alert alert-block alert-warning\">\n",
        "<b>HINTS</b><br>\n",
        "wget, shuf\n",
        "</div>\n"
      ]
    }
  ],
  "metadata": {
    "celltoolbar": "Slideshow",
    "kernelspec": {
      "display_name": "Python 3 (ipykernel)",
      "language": "python",
      "name": "python3"
    },
    "language_info": {
      "codemirror_mode": {
        "name": "ipython",
        "version": 3
      },
      "file_extension": ".py",
      "mimetype": "text/x-python",
      "name": "python",
      "nbconvert_exporter": "python",
      "pygments_lexer": "ipython3",
      "version": "3.8.8"
    },
    "toc": {
      "base_numbering": 1,
      "nav_menu": {},
      "number_sections": false,
      "sideBar": true,
      "skip_h1_title": false,
      "title_cell": "Table of Contents",
      "title_sidebar": "Contents",
      "toc_cell": false,
      "toc_position": {
        "height": "calc(100% - 180px)",
        "left": "10px",
        "top": "150px",
        "width": "384px"
      },
      "toc_section_display": true,
      "toc_window_display": false
    },
    "vscode": {
      "interpreter": {
        "hash": "9d2bd68a915523ce9e58622534b3a76c58e4a7336a823b0a8d0a3a702133fc2d"
      }
    },
    "colab": {
      "provenance": []
    }
  },
  "nbformat": 4,
  "nbformat_minor": 0
}